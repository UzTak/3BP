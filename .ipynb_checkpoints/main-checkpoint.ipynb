{
 "cells": [
  {
   "cell_type": "markdown",
   "metadata": {},
   "source": [
    "## CR3BP Halo Orbit Generation at Collinear Lagrange Points"
   ]
  },
  {
   "cell_type": "code",
   "execution_count": 2,
   "metadata": {},
   "outputs": [],
   "source": [
    "import numpy as np\n",
    "\n",
    "%matplotlib notebook\n",
    "%load_ext autoreload\n",
    "%autoreload 2"
   ]
  },
  {
   "cell_type": "code",
   "execution_count": null,
   "metadata": {},
   "outputs": [],
   "source": [
    "# set-up of problem\n",
    "\n",
    "\n",
    "# initial guess of Halo Orbit: Lindstedt-Poincare Method\n",
    "s0, period0 = initial_guess_halo(fam, mu, Az_km, lstar)\n",
    "\n",
    "# Optimization of the trajectory \n",
    "s_opt, period_opt = optimize_halo(s0, period0)\n",
    "\n",
    "# Generate the Trajectory with the optimized variables\n",
    "\n",
    "\n",
    "# Plot the orbits\n",
    "\n"
   ]
  }
 ],
 "metadata": {
  "kernelspec": {
   "display_name": "Python 3",
   "language": "python",
   "name": "python3"
  },
  "language_info": {
   "codemirror_mode": {
    "name": "ipython",
    "version": 3
   },
   "file_extension": ".py",
   "mimetype": "text/x-python",
   "name": "python",
   "nbconvert_exporter": "python",
   "pygments_lexer": "ipython3",
   "version": "3.7.3"
  }
 },
 "nbformat": 4,
 "nbformat_minor": 2
}
